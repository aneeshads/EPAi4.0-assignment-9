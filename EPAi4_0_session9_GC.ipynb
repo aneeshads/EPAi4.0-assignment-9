{
  "nbformat": 4,
  "nbformat_minor": 0,
  "metadata": {
    "colab": {
      "name": "EPAi4.0-session9-GC.ipynb",
      "provenance": [],
      "authorship_tag": "ABX9TyO162sPjIsIG1LPugD0CdEN",
      "include_colab_link": true
    },
    "kernelspec": {
      "name": "python3",
      "display_name": "Python 3"
    },
    "language_info": {
      "name": "python"
    }
  },
  "cells": [
    {
      "cell_type": "markdown",
      "metadata": {
        "id": "view-in-github",
        "colab_type": "text"
      },
      "source": [
        "<a href=\"https://colab.research.google.com/github/aneeshads/EPAi4.0-assignment-9/blob/main/EPAi4_0_session9_GC.ipynb\" target=\"_parent\"><img src=\"https://colab.research.google.com/assets/colab-badge.svg\" alt=\"Open In Colab\"/></a>"
      ]
    },
    {
      "cell_type": "code",
      "execution_count": 1,
      "metadata": {
        "colab": {
          "base_uri": "https://localhost:8080/"
        },
        "id": "h2XyMQtogl4m",
        "outputId": "947153bf-bd22-4c0a-ca8d-7989635437ac"
      },
      "outputs": [
        {
          "output_type": "stream",
          "name": "stdout",
          "text": [
            "Cloning into 'EPAi4.0-assignment-9'...\n",
            "remote: Enumerating objects: 35, done.\u001b[K\n",
            "remote: Counting objects: 100% (35/35), done.\u001b[K\n",
            "remote: Compressing objects: 100% (32/32), done.\u001b[K\n",
            "remote: Total 35 (delta 10), reused 0 (delta 0), pack-reused 0\u001b[K\n",
            "Unpacking objects: 100% (35/35), done.\n"
          ]
        }
      ],
      "source": [
        "!git clone https://github.com/aneeshads/EPAi4.0-assignment-9"
      ]
    },
    {
      "cell_type": "code",
      "source": [
        "pwd"
      ],
      "metadata": {
        "colab": {
          "base_uri": "https://localhost:8080/",
          "height": 36
        },
        "id": "TyuM1vHShdvG",
        "outputId": "84dd7dab-4dee-4898-e809-78456cfad1f8"
      },
      "execution_count": 2,
      "outputs": [
        {
          "output_type": "execute_result",
          "data": {
            "application/vnd.google.colaboratory.intrinsic+json": {
              "type": "string"
            },
            "text/plain": [
              "'/content'"
            ]
          },
          "metadata": {},
          "execution_count": 2
        }
      ]
    },
    {
      "cell_type": "code",
      "source": [
        "cd EPAi4.0-assignment-9/"
      ],
      "metadata": {
        "colab": {
          "base_uri": "https://localhost:8080/"
        },
        "id": "rB47vFu0h3cQ",
        "outputId": "6e4f9d86-5eaa-4e16-bc84-2d09c94003c6"
      },
      "execution_count": 3,
      "outputs": [
        {
          "output_type": "stream",
          "name": "stdout",
          "text": [
            "/content/EPAi4.0-assignment-9\n"
          ]
        }
      ]
    },
    {
      "cell_type": "code",
      "source": [
        "pwd\n"
      ],
      "metadata": {
        "colab": {
          "base_uri": "https://localhost:8080/",
          "height": 36
        },
        "id": "oUgo37vSiFmR",
        "outputId": "1ad55cfe-cbe7-46ed-ffea-20c08891d184"
      },
      "execution_count": 4,
      "outputs": [
        {
          "output_type": "execute_result",
          "data": {
            "application/vnd.google.colaboratory.intrinsic+json": {
              "type": "string"
            },
            "text/plain": [
              "'/content/EPAi4.0-assignment-9'"
            ]
          },
          "metadata": {},
          "execution_count": 4
        }
      ]
    },
    {
      "cell_type": "code",
      "source": [
        "from polygon import Polygon\n",
        "from polygon import PolygonSequence"
      ],
      "metadata": {
        "id": "PYDWC0tdiFvM"
      },
      "execution_count": 5,
      "outputs": []
    },
    {
      "cell_type": "markdown",
      "source": [
        "# Objective 1: Create a Polygon Class\n",
        "\n"
      ],
      "metadata": {
        "id": "bBvxfKA1JE3w"
      }
    },
    {
      "cell_type": "code",
      "source": [
        "print(Polygon(3, 5))"
      ],
      "metadata": {
        "colab": {
          "base_uri": "https://localhost:8080/"
        },
        "id": "vDwYwU0qiF3u",
        "outputId": "d933c11f-2cde-451e-f9bb-7c21b3ebe8cd"
      },
      "execution_count": 6,
      "outputs": [
        {
          "output_type": "stream",
          "name": "stdout",
          "text": [
            "For a polygon with the number of vertices 3 and a circumradius of 5\n",
            ",         The measure of interior angle is 60.0\n",
            ".         The measure of edge length is 8.66\n",
            ".         The measure of apothem is 2.5\n",
            ".         The measure of area is 32.48\n",
            ".         The measure of perimeter is 25.98\n",
            "\n"
          ]
        }
      ]
    },
    {
      "cell_type": "code",
      "source": [
        "p1 = Polygon(3, 8)\n",
        "p2 = Polygon(3, 8)\n",
        "\n",
        "print(p1 == p2)"
      ],
      "metadata": {
        "colab": {
          "base_uri": "https://localhost:8080/"
        },
        "id": "fLel5VKgimU7",
        "outputId": "10a785e1-a2c0-4739-98d1-99c736ec261c"
      },
      "execution_count": 7,
      "outputs": [
        {
          "output_type": "stream",
          "name": "stdout",
          "text": [
            "True\n"
          ]
        }
      ]
    },
    {
      "cell_type": "code",
      "source": [
        "p1 = Polygon(3, 8)\n",
        "p2 = Polygon(5, 8)\n",
        "\n",
        "print(p1 > p2)"
      ],
      "metadata": {
        "colab": {
          "base_uri": "https://localhost:8080/"
        },
        "id": "OEQ2C9tKimej",
        "outputId": "62b08e82-8150-4204-b981-b265ec63202c"
      },
      "execution_count": 8,
      "outputs": [
        {
          "output_type": "stream",
          "name": "stdout",
          "text": [
            "False\n"
          ]
        }
      ]
    },
    {
      "cell_type": "markdown",
      "source": [
        "# Objective 2: Create a custom polygon sequence"
      ],
      "metadata": {
        "id": "ZSMfr5jWJW1t"
      }
    },
    {
      "cell_type": "code",
      "source": [
        "p = PolygonSequence(10, 5)\n",
        "print(p)"
      ],
      "metadata": {
        "colab": {
          "base_uri": "https://localhost:8080/"
        },
        "id": "S1LLe5ltiGAb",
        "outputId": "63683777-4c45-4f8f-fa69-eb7e3cf21c54"
      },
      "execution_count": 9,
      "outputs": [
        {
          "output_type": "stream",
          "name": "stdout",
          "text": [
            "This is a PolygonSequence class with polygons upto 10 vertices and 5 circumradius\n"
          ]
        }
      ]
    },
    {
      "cell_type": "code",
      "source": [
        "print(len(p))"
      ],
      "metadata": {
        "colab": {
          "base_uri": "https://localhost:8080/"
        },
        "id": "of3tFNXki47Y",
        "outputId": "62259d92-1f71-4952-dace-dbbd6d014464"
      },
      "execution_count": 10,
      "outputs": [
        {
          "output_type": "stream",
          "name": "stdout",
          "text": [
            "10\n"
          ]
        }
      ]
    },
    {
      "cell_type": "code",
      "source": [
        "print(p[3])"
      ],
      "metadata": {
        "colab": {
          "base_uri": "https://localhost:8080/"
        },
        "id": "m0n3OCKvi4x-",
        "outputId": "6e875834-3aac-400b-d0ef-8e69192048af"
      },
      "execution_count": 11,
      "outputs": [
        {
          "output_type": "stream",
          "name": "stdout",
          "text": [
            "For a polygon with the number of vertices 3 and a circumradius of 5\n",
            ",         The measure of interior angle is 60.0\n",
            ".         The measure of edge length is 8.66\n",
            ".         The measure of apothem is 2.5\n",
            ".         The measure of area is 32.48\n",
            ".         The measure of perimeter is 25.98\n",
            "\n"
          ]
        }
      ]
    },
    {
      "cell_type": "code",
      "source": [
        "print(p[5:9:1])"
      ],
      "metadata": {
        "id": "Nz2kLNFNi4lM",
        "colab": {
          "base_uri": "https://localhost:8080/"
        },
        "outputId": "a3573269-dc0e-4dfd-a2ea-a4049554601d"
      },
      "execution_count": 12,
      "outputs": [
        {
          "output_type": "stream",
          "name": "stdout",
          "text": [
            "requesting [5:9:1]\n",
            "[For a polygon with the number of vertices 5 and a circumradius of 5\n",
            ",         The measure of interior angle is 108.0\n",
            ".         The measure of edge length is 5.88\n",
            ".         The measure of apothem is 4.05\n",
            ".         The measure of area is 59.53\n",
            ".         The measure of perimeter is 29.4\n",
            ", For a polygon with the number of vertices 6 and a circumradius of 5\n",
            ",         The measure of interior angle is 120.0\n",
            ".         The measure of edge length is 5.0\n",
            ".         The measure of apothem is 4.33\n",
            ".         The measure of area is 64.95\n",
            ".         The measure of perimeter is 30.0\n",
            ", For a polygon with the number of vertices 7 and a circumradius of 5\n",
            ",         The measure of interior angle is 128.57\n",
            ".         The measure of edge length is 4.34\n",
            ".         The measure of apothem is 4.5\n",
            ".         The measure of area is 68.36\n",
            ".         The measure of perimeter is 30.38\n",
            ", For a polygon with the number of vertices 8 and a circumradius of 5\n",
            ",         The measure of interior angle is 135.0\n",
            ".         The measure of edge length is 3.83\n",
            ".         The measure of apothem is 4.62\n",
            ".         The measure of area is 70.78\n",
            ".         The measure of perimeter is 30.64\n",
            "]\n"
          ]
        }
      ]
    },
    {
      "cell_type": "code",
      "source": [
        "p1 = PolygonSequence(25, 5)\n",
        "p1.maximum_efficient_polygon()"
      ],
      "metadata": {
        "colab": {
          "base_uri": "https://localhost:8080/"
        },
        "id": "7SmT7DaLIwlB",
        "outputId": "1dd8976c-f120-4cb3-e01e-082dc667b56e"
      },
      "execution_count": 14,
      "outputs": [
        {
          "output_type": "stream",
          "name": "stdout",
          "text": [
            "Maximum efficient polygon:  24\n",
            "Max efficiency:  2.4799618320610683\n"
          ]
        },
        {
          "output_type": "execute_result",
          "data": {
            "text/plain": [
              "2.4799618320610683"
            ]
          },
          "metadata": {},
          "execution_count": 14
        }
      ]
    }
  ]
}